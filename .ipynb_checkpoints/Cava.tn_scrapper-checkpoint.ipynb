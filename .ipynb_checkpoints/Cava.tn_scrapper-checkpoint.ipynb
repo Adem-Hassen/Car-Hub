{
 "cells": [
  {
   "cell_type": "code",
   "execution_count": 1,
   "id": "93f9bba2",
   "metadata": {},
   "outputs": [],
   "source": [
    "from bs4 import BeautifulSoup\n",
    "import requests\n",
    "import pandas as pd\n",
    "from cleantext import clean"
   ]
  },
  {
   "cell_type": "code",
   "execution_count": 5,
   "id": "424c14f3",
   "metadata": {},
   "outputs": [],
   "source": [
    "cars_urls=[]\n",
    "for i in range(1,2):\n",
    "    url=f\"https://www.cava.tn/category/voitures?page={i}\"\n",
    "    page=requests.get(url)\n",
    "    scrapped=BeautifulSoup(page.text,\"html.parser\")\n",
    "    articles=scrapped.find_all('app-product-item')\n",
    "    for article in articles:  \n",
    "        cars_urls.append(\"https://www.cava.tn\"+article.find(\"a\").get(\"href\"))"
   ]
  },
  {
   "cell_type": "code",
   "execution_count": 6,
   "id": "9491daef",
   "metadata": {},
   "outputs": [
    {
     "data": {
      "text/plain": [
       "['https://www.cava.tn/voitures/isuzu-dmax-30-l-diesel-boite-automatique-909204',\n",
       " 'https://www.cava.tn/voitures/kia-picanto-gt-line-boite-auto-909403',\n",
       " 'https://www.cava.tn/voitures/hyundai-i10-boite-auto-909415',\n",
       " 'https://www.cava.tn/voitures/kia-sportage-gt-line-44-awd-909406',\n",
       " 'https://www.cava.tn/voitures/voiture-importe-de-l-allemagne-dernier-srie-816292',\n",
       " 'https://www.cava.tn/voitures/fiat-500c-cabriolet-855753',\n",
       " 'https://www.cava.tn/voitures/clio-4-break-880737',\n",
       " 'https://www.cava.tn/voitures/citroen-berlingo-5p-tu-247-880738',\n",
       " 'https://www.cava.tn/voitures/skoda-fabia-ambition-neuf-910243',\n",
       " 'https://www.cava.tn/voitures/-ford-focus-titanium--910238',\n",
       " 'https://www.cava.tn/voitures/peugeot-bipper-14hdi-910236',\n",
       " 'https://www.cava.tn/voitures/caddy-prestige-910197',\n",
       " 'https://www.cava.tn/voitures/peugeot-106-910196',\n",
       " 'https://www.cava.tn/voitures/npr-910193',\n",
       " 'https://www.cava.tn/voitures/npr-910191',\n",
       " 'https://www.cava.tn/voitures/npr-910188',\n",
       " 'https://www.cava.tn/voitures/mini-cooper-910182',\n",
       " 'https://www.cava.tn/voitures/fiat-doblo-maxi-1ere-main-21047837-910181',\n",
       " 'https://www.cava.tn/voitures/renault-clio-4-premire-main-srie-207-910176',\n",
       " 'https://www.cava.tn/voitures/mercedes-benz-910167',\n",
       " 'https://www.cava.tn/voitures/a-vendre-910160',\n",
       " 'https://www.cava.tn/voitures/suzuki-dzire-premire-main-trs-propre-910150',\n",
       " 'https://www.cava.tn/voitures/renault-kwid-premire-main-en-tat-neuf-910149',\n",
       " 'https://www.cava.tn/voitures/a-vendre-910148',\n",
       " 'https://www.cava.tn/voitures/mg-gt-sport-neuf-910145',\n",
       " 'https://www.cava.tn/voitures/citroen-c3-910144',\n",
       " 'https://www.cava.tn/voitures/belle-h6-910141',\n",
       " 'https://www.cava.tn/voitures/chery-qq-premire-main-910131']"
      ]
     },
     "execution_count": 6,
     "metadata": {},
     "output_type": "execute_result"
    }
   ],
   "source": [
    "cars_df=pd.DataFrame(columns=[\"Model\",\"Price\",\"Mileage\",\"Year\",\"Gearbox\",\"Transmission\",\"Tax Horsepower\",\"Energy\",\"Governorate\",\"Description\",\"Image\",\"Original Post\"])\n",
    "for url in cars_urls:\n",
    "    page=requests.get(url)\n",
    "    scrapped=BeautifulSoup(page.text,\"html.parser\")\n",
    "    name=clean(scrapped.find(\"h1\").text,no_emoji=True)\n",
    "    if scrapped.find(\"data\") and scrapped.find(\"data\").get(\"value\"):\n",
    "        price=scrapped.find(\"data\").get(\"value\")+\" DT\"\n",
    "    else: \n",
    "        price=\"None\"\n",
    "    mileage=\" km\"\n",
    "    year=\"\"\n",
    "    gearbox=\"\"\n",
    "    tax_horsepower=\"\"\n",
    "    energy=\"\"\n",
    "    if scrapped.find(\"div\",class_=\"flex items-center space-x-2 mb-1\"):\n",
    "        governorate=scrapped.find(\"div\",class_=\"flex items-center space-x-2 mb-1\").find(\"span\").text.split(\",\")[0]\n",
    "    else:\n",
    "        governorate=\"None\"\n",
    "    if scrapped.find(\"p\",class_=\"text-sm text-start text-gray-700 font-arabic whitespace-pre-line line-clamp-3\"):\n",
    "        description=clean(scrapped.find(\"p\",class_=\"text-sm text-start text-gray-700 font-arabic whitespace-pre-line line-clamp-3\").text,no_emoji=True)\n",
    "    else:\n",
    "        description=\"None\"\n",
    "    if scrapped.find(\"img\",class_=\"w-full h-full object-cover cursor-pointer\"):      \n",
    "        image=scrapped.find(\"img\",class_=\"w-full h-full object-cover cursor-pointer\").get(\"src\")\n",
    "    else:\n",
    "        image=\"None\"\n",
    "    link=url\n",
    "\n",
    "    criterias=scrapped.find(\"ul\",class_=\"grid gap-3 grid-cols-12\").find_all(\"li\") if scrapped.find(\"ul\",class_=\"grid gap-3 grid-cols-12\") else []\n",
    "    if criterias:\n",
    "        for criteria in criterias:\n",
    "            criteria_name=criteria.find(\"span\",class_=\"text-gray-600/80 text-2xs md:text-xs lg:text-xs font-medium\").text\n",
    "            switcher={}\n",
    "            if  criteria_name in [\"Couleur du véhicule\",\"Etat du véhicule\",\"Cylindrée\",\"Marque\",\"Modèle\",\"Type de carrosserie\"]:\n",
    "                continue\n",
    "            if criteria_name==\"Kilométrage\":\n",
    "                mileage=criteria.find(\"span\",class_=\"text-gray-700/80 text-xs md:text-sm lg:text-sm font-semibold\").text+\" km\"\n",
    "            elif criteria_name==\"Boite\":\n",
    "                gearbox=criteria.find(\"span\",class_=\"text-gray-700/80 text-xs md:text-sm lg:text-sm font-semibold\").text\n",
    "            elif criteria_name==\"Année\":\n",
    "                year=criteria.find(\"span\",class_=\"text-gray-700/80 text-xs md:text-sm lg:text-sm font-semibold\").text\n",
    "            elif criteria_name==\"Puissance fiscale\":\n",
    "                tax_horsepower=criteria.find(\"span\",class_=\"text-gray-700/80 text-xs md:text-sm lg:text-sm font-semibold\").text+\" cv\"\n",
    "            elif criteria_name==\"Carburant\":\n",
    "                energy=criteria.find(\"span\",class_=\"text-gray-700/80 text-xs md:text-sm lg:text-sm font-semibold\").text\n",
    "\n",
    "        row={\"Model\":name,\"Price\":price,\"Mileage\":mileage,\"Year\":year,\"Gearbox\":gearbox,\"Transmission\":\"None\",\"Tax Horsepower\":tax_horsepower,\"Energy\":energy,\"Governorate\":governorate,\"Description\":description,\"Image\":image,\"Original Post\":link} \n",
    "    \n",
    "        cars_df.loc[len(cars_df)]=row"
   ]
  },
  {
   "cell_type": "code",
   "execution_count": null,
   "id": "ce9b10d1",
   "metadata": {},
   "outputs": [],
   "source": []
  }
 ],
 "metadata": {
  "kernelspec": {
   "display_name": "Python 3 (ipykernel)",
   "language": "python",
   "name": "python3"
  },
  "language_info": {
   "codemirror_mode": {
    "name": "ipython",
    "version": 3
   },
   "file_extension": ".py",
   "mimetype": "text/x-python",
   "name": "python",
   "nbconvert_exporter": "python",
   "pygments_lexer": "ipython3",
   "version": "3.11.5"
  }
 },
 "nbformat": 4,
 "nbformat_minor": 5
}
